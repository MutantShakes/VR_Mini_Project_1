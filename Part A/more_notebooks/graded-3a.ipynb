{
 "cells": [
  {
   "cell_type": "markdown",
   "id": "c9f67e5a",
   "metadata": {},
   "source": [
    "# 0. Imports"
   ]
  },
  {
   "cell_type": "code",
   "execution_count": 6,
   "id": "184967bc",
   "metadata": {},
   "outputs": [],
   "source": [
    "# imports\n",
    "import torch\n",
    "import torch.nn as nn\n",
    "from torchvision.datasets import CIFAR10\n",
    "import torchvision.transforms as transforms\n",
    "from torchsummary import summary"
   ]
  },
  {
   "cell_type": "code",
   "execution_count": 11,
   "id": "561e1b54",
   "metadata": {},
   "outputs": [
    {
     "data": {
      "text/plain": [
       "device(type='cuda')"
      ]
     },
     "execution_count": 11,
     "metadata": {},
     "output_type": "execute_result"
    }
   ],
   "source": [
    "# setup device\n",
    "device =device = 'cuda' if torch.cuda.is_available() else 'cpu'\n",
    "device = torch.device(device)\n",
    "device"
   ]
  },
  {
   "cell_type": "markdown",
   "id": "58725e45",
   "metadata": {},
   "source": [
    "# 1. Dataset"
   ]
  },
  {
   "cell_type": "code",
   "execution_count": 2,
   "id": "7a043f7c",
   "metadata": {},
   "outputs": [
    {
     "name": "stdout",
     "output_type": "stream",
     "text": [
      "Files already downloaded and verified\n"
     ]
    }
   ],
   "source": [
    "# get the cifar10 dataset\n",
    "dataset = CIFAR10(root='data', transform=transforms.ToTensor(), download=True)"
   ]
  },
  {
   "cell_type": "markdown",
   "id": "a73d1ba8",
   "metadata": {},
   "source": [
    "# 2. Model"
   ]
  },
  {
   "cell_type": "code",
   "execution_count": 27,
   "id": "c7cd897f",
   "metadata": {},
   "outputs": [],
   "source": [
    "class CifarClassifierV1(nn.Module):\n",
    "    \n",
    "    def __init__(self):\n",
    "        super().__init__()\n",
    "        self.model = nn.Sequential(\n",
    "            nn.Conv2d(in_channels=3, out_channels=8, kernel_size=3),\n",
    "            nn.ReLU(),\n",
    "            nn.MaxPool2d(2),\n",
    "            nn.Conv2d(in_channels=8, out_channels=16, kernel_size=3),\n",
    "            nn.ReLU(),\n",
    "            nn.Dropout(0.36),\n",
    "            nn.Conv2d(in_channels=16, out_channels=32, kernel_size=3),\n",
    "            nn.ReLU(),\n",
    "            nn.Flatten(),\n",
    "            nn.Linear(in_features=3872, out_features=512),\n",
    "            nn.ReLU(),\n",
    "            nn.Linear(in_features=512, out_features=10),\n",
    "        )\n",
    "    def forward(self, x):\n",
    "        return self.model(x)"
   ]
  },
  {
   "cell_type": "code",
   "execution_count": 31,
   "id": "573cd279",
   "metadata": {},
   "outputs": [
    {
     "name": "stdout",
     "output_type": "stream",
     "text": [
      "----------------------------------------------------------------\n",
      "        Layer (type)               Output Shape         Param #\n",
      "================================================================\n",
      "            Conv2d-1            [-1, 8, 30, 30]             224\n",
      "              ReLU-2            [-1, 8, 30, 30]               0\n",
      "         MaxPool2d-3            [-1, 8, 15, 15]               0\n",
      "            Conv2d-4           [-1, 16, 13, 13]           1,168\n",
      "              ReLU-5           [-1, 16, 13, 13]               0\n",
      "           Dropout-6           [-1, 16, 13, 13]               0\n",
      "            Conv2d-7           [-1, 32, 11, 11]           4,640\n",
      "              ReLU-8           [-1, 32, 11, 11]               0\n",
      "           Flatten-9                 [-1, 3872]               0\n",
      "           Linear-10                  [-1, 512]       1,982,976\n",
      "             ReLU-11                  [-1, 512]               0\n",
      "           Linear-12                   [-1, 10]           5,130\n",
      "================================================================\n",
      "Total params: 1,994,138\n",
      "Trainable params: 1,994,138\n",
      "Non-trainable params: 0\n",
      "----------------------------------------------------------------\n",
      "Input size (MB): 0.01\n",
      "Forward/backward pass size (MB): 0.28\n",
      "Params size (MB): 7.61\n",
      "Estimated Total Size (MB): 7.90\n",
      "----------------------------------------------------------------\n"
     ]
    }
   ],
   "source": [
    "model_1 = CifarClassifierV1().to(device)\n",
    "summary(model_1, (3, 32, 32))"
   ]
  },
  {
   "cell_type": "code",
   "execution_count": 29,
   "id": "32e33cbf",
   "metadata": {},
   "outputs": [],
   "source": [
    "class CifarClassifierV2(nn.Module):\n",
    "    \n",
    "    def __init__(self):\n",
    "        super().__init__()\n",
    "        self.model = nn.Sequential(\n",
    "            nn.Conv2d(in_channels=3, out_channels=8, kernel_size=3),\n",
    "            nn.Tanh(),\n",
    "            nn.MaxPool2d(2),\n",
    "            nn.Conv2d(in_channels=8, out_channels=16, kernel_size=3),\n",
    "            nn.Tanh(),\n",
    "            nn.Dropout(0.36),\n",
    "            nn.Conv2d(in_channels=16, out_channels=32, kernel_size=3),\n",
    "            nn.Tanh(),\n",
    "            nn.Flatten(),\n",
    "            nn.Linear(in_features=3872, out_features=512),\n",
    "            nn.Tanh(),\n",
    "            nn.Linear(in_features=512, out_features=10),\n",
    "        )\n",
    "    def forward(self, x):\n",
    "        return self.model(x)"
   ]
  },
  {
   "cell_type": "code",
   "execution_count": 32,
   "id": "f6a92005",
   "metadata": {},
   "outputs": [
    {
     "name": "stdout",
     "output_type": "stream",
     "text": [
      "----------------------------------------------------------------\n",
      "        Layer (type)               Output Shape         Param #\n",
      "================================================================\n",
      "            Conv2d-1            [-1, 8, 30, 30]             224\n",
      "              Tanh-2            [-1, 8, 30, 30]               0\n",
      "         MaxPool2d-3            [-1, 8, 15, 15]               0\n",
      "            Conv2d-4           [-1, 16, 13, 13]           1,168\n",
      "              Tanh-5           [-1, 16, 13, 13]               0\n",
      "           Dropout-6           [-1, 16, 13, 13]               0\n",
      "            Conv2d-7           [-1, 32, 11, 11]           4,640\n",
      "              Tanh-8           [-1, 32, 11, 11]               0\n",
      "           Flatten-9                 [-1, 3872]               0\n",
      "           Linear-10                  [-1, 512]       1,982,976\n",
      "             Tanh-11                  [-1, 512]               0\n",
      "           Linear-12                   [-1, 10]           5,130\n",
      "================================================================\n",
      "Total params: 1,994,138\n",
      "Trainable params: 1,994,138\n",
      "Non-trainable params: 0\n",
      "----------------------------------------------------------------\n",
      "Input size (MB): 0.01\n",
      "Forward/backward pass size (MB): 0.28\n",
      "Params size (MB): 7.61\n",
      "Estimated Total Size (MB): 7.90\n",
      "----------------------------------------------------------------\n"
     ]
    }
   ],
   "source": [
    "model_2 = CifarClassifierV2().to(device)\n",
    "summary(model_2, (3, 32, 32))"
   ]
  },
  {
   "cell_type": "code",
   "execution_count": 33,
   "id": "b6925de5",
   "metadata": {},
   "outputs": [],
   "source": [
    "class CifarClassifierV3(nn.Module):\n",
    "    \n",
    "    def __init__(self):\n",
    "        super().__init__()\n",
    "        self.model = nn.Sequential(\n",
    "            nn.Conv2d(in_channels=3, out_channels=8, kernel_size=3),\n",
    "            nn.Sigmoid(),\n",
    "            nn.MaxPool2d(2),\n",
    "            nn.Conv2d(in_channels=8, out_channels=16, kernel_size=3),\n",
    "            nn.Sigmoid(),\n",
    "            nn.Dropout(0.36),\n",
    "            nn.Conv2d(in_channels=16, out_channels=32, kernel_size=3),\n",
    "            nn.Sigmoid(),\n",
    "            nn.Flatten(),\n",
    "            nn.Linear(in_features=3872, out_features=512),\n",
    "            nn.Sigmoid(),\n",
    "            nn.Linear(in_features=512, out_features=10),\n",
    "        )\n",
    "    def forward(self, x):\n",
    "        return self.model(x)"
   ]
  },
  {
   "cell_type": "code",
   "execution_count": 34,
   "id": "68ed9b76",
   "metadata": {},
   "outputs": [
    {
     "name": "stdout",
     "output_type": "stream",
     "text": [
      "----------------------------------------------------------------\n",
      "        Layer (type)               Output Shape         Param #\n",
      "================================================================\n",
      "            Conv2d-1            [-1, 8, 30, 30]             224\n",
      "           Sigmoid-2            [-1, 8, 30, 30]               0\n",
      "         MaxPool2d-3            [-1, 8, 15, 15]               0\n",
      "            Conv2d-4           [-1, 16, 13, 13]           1,168\n",
      "           Sigmoid-5           [-1, 16, 13, 13]               0\n",
      "           Dropout-6           [-1, 16, 13, 13]               0\n",
      "            Conv2d-7           [-1, 32, 11, 11]           4,640\n",
      "           Sigmoid-8           [-1, 32, 11, 11]               0\n",
      "           Flatten-9                 [-1, 3872]               0\n",
      "           Linear-10                  [-1, 512]       1,982,976\n",
      "          Sigmoid-11                  [-1, 512]               0\n",
      "           Linear-12                   [-1, 10]           5,130\n",
      "================================================================\n",
      "Total params: 1,994,138\n",
      "Trainable params: 1,994,138\n",
      "Non-trainable params: 0\n",
      "----------------------------------------------------------------\n",
      "Input size (MB): 0.01\n",
      "Forward/backward pass size (MB): 0.28\n",
      "Params size (MB): 7.61\n",
      "Estimated Total Size (MB): 7.90\n",
      "----------------------------------------------------------------\n"
     ]
    }
   ],
   "source": [
    "model_3 = CifarClassifierV3().to(device)\n",
    "summary(model_3, (3, 32, 32))"
   ]
  },
  {
   "cell_type": "markdown",
   "id": "efc0c6bf",
   "metadata": {},
   "source": [
    "# 4. Reports"
   ]
  },
  {
   "cell_type": "code",
   "execution_count": null,
   "id": "c5c581d9",
   "metadata": {},
   "outputs": [],
   "source": []
  }
 ],
 "metadata": {
  "kernelspec": {
   "display_name": "Python 3 (ipykernel)",
   "language": "python",
   "name": "python3"
  },
  "language_info": {
   "codemirror_mode": {
    "name": "ipython",
    "version": 3
   },
   "file_extension": ".py",
   "mimetype": "text/x-python",
   "name": "python",
   "nbconvert_exporter": "python",
   "pygments_lexer": "ipython3",
   "version": "3.11.3"
  }
 },
 "nbformat": 4,
 "nbformat_minor": 5
}
