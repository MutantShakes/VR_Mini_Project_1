{
 "cells": [
  {
   "cell_type": "markdown",
   "metadata": {},
   "source": [
    "# 0. Imports"
   ]
  },
  {
   "cell_type": "code",
   "execution_count": 4,
   "metadata": {},
   "outputs": [],
   "source": [
    "# imports\n",
    "# imports\n",
    "\n",
    "import torch\n",
    "from torch import nn\n",
    "from torchvision.datasets import FashionMNIST\n",
    "from torchvision import transforms\n",
    "from torch.utils.data import random_split, DataLoader\n",
    "from torchsummary import summary\n",
    "from torch.nn import CrossEntropyLoss\n",
    "from torch.optim import Adam\n",
    "from tqdm.auto import tqdm\n",
    "import time\n",
    "from sklearn.metrics import confusion_matrix, accuracy_score"
   ]
  },
  {
   "cell_type": "code",
   "execution_count": 2,
   "metadata": {},
   "outputs": [
    {
     "data": {
      "text/plain": [
       "<torch._C.Generator at 0x1052e1ea910>"
      ]
     },
     "execution_count": 2,
     "metadata": {},
     "output_type": "execute_result"
    }
   ],
   "source": [
    "# for reproducibility\n",
    "torch.manual_seed(42)"
   ]
  },
  {
   "cell_type": "code",
   "execution_count": 3,
   "metadata": {},
   "outputs": [
    {
     "data": {
      "text/plain": [
       "device(type='cuda')"
      ]
     },
     "execution_count": 3,
     "metadata": {},
     "output_type": "execute_result"
    }
   ],
   "source": [
    "# setup device\n",
    "device = 'cuda' if torch.cuda.is_available() else 'cpu'\n",
    "device = torch.device(device)\n",
    "device"
   ]
  },
  {
   "cell_type": "markdown",
   "metadata": {},
   "source": [
    "# 1. Dataset and Dataloader"
   ]
  },
  {
   "cell_type": "code",
   "execution_count": 46,
   "metadata": {},
   "outputs": [],
   "source": [
    "# get the dataset\n",
    "from torchvision.datasets import ImageFolder\n",
    "\n",
    "transforms = transforms.Compose(\n",
    "    [\n",
    "        transforms.Resize((48, 64)),\n",
    "        transforms.ToTensor()\n",
    "    ]\n",
    ")\n",
    "train_dataset = ImageFolder(\"dataset/train\", transform=transforms)\n",
    "val_dataset = ImageFolder(\"dataset/test\", transform=transforms)"
   ]
  },
  {
   "cell_type": "code",
   "execution_count": 48,
   "metadata": {},
   "outputs": [
    {
     "data": {
      "text/plain": [
       "torch.Size([3, 48, 64])"
      ]
     },
     "execution_count": 48,
     "metadata": {},
     "output_type": "execute_result"
    }
   ],
   "source": [
    "train_dataset[0][0].shape"
   ]
  },
  {
   "cell_type": "code",
   "execution_count": 49,
   "metadata": {},
   "outputs": [
    {
     "data": {
      "text/plain": [
       "{'Bikes': 0, 'Horses': 1}"
      ]
     },
     "execution_count": 49,
     "metadata": {},
     "output_type": "execute_result"
    }
   ],
   "source": [
    "# mapping\n",
    "train_dataset.class_to_idx"
   ]
  },
  {
   "cell_type": "code",
   "execution_count": 50,
   "metadata": {},
   "outputs": [],
   "source": [
    "# create dataloaders\n",
    "batch_size = 4\n",
    "train_dataloader = DataLoader(train_dataset, batch_size=batch_size)\n",
    "val_dataloader = DataLoader(val_dataset, batch_size=batch_size)"
   ]
  },
  {
   "cell_type": "markdown",
   "metadata": {},
   "source": [
    "# 2. Create CNN"
   ]
  },
  {
   "cell_type": "code",
   "execution_count": 63,
   "metadata": {},
   "outputs": [],
   "source": [
    "class BikeHorseClassifier(nn.Module):\n",
    "    \n",
    "    def __init__(self):\n",
    "        super().__init__()\n",
    "        \n",
    "        self.block_1 = nn.Sequential(\n",
    "            nn.Conv2d(in_channels=3, out_channels=32, kernel_size=3, padding=\"same\"),\n",
    "            nn.BatchNorm2d(32),\n",
    "            nn.ReLU(),\n",
    "            nn.MaxPool2d(2)\n",
    "        )\n",
    "        self.block_2 = nn.Sequential(\n",
    "            nn.Conv2d(in_channels=32, out_channels=64, kernel_size=3, padding=\"same\"),\n",
    "            nn.BatchNorm2d(64),\n",
    "            nn.ReLU(),\n",
    "            nn.MaxPool2d(2)\n",
    "        )\n",
    "        self.block_3 = nn.Sequential(\n",
    "            nn.Conv2d(in_channels=64, out_channels=128, kernel_size=3, padding=\"same\"),\n",
    "            nn.BatchNorm2d(128),\n",
    "            nn.ReLU(),\n",
    "            nn.MaxPool2d(2)\n",
    "        )\n",
    "\n",
    "        self.block_4 = nn.Sequential(\n",
    "            nn.Flatten(),\n",
    "            nn.Linear(in_features=128*6*8, out_features=64),\n",
    "            nn.ReLU(),\n",
    "        )\n",
    "        self.last_layer = nn.Linear(in_features=64, out_features=10)\n",
    "        \n",
    "    def forward(self, x):\n",
    "        features = self.block_4(self.block_3(self.block_2(self.block_1(x))))\n",
    "        activations = self.last_layer(features)\n",
    "        return (activations, features)"
   ]
  },
  {
   "cell_type": "code",
   "execution_count": 64,
   "metadata": {},
   "outputs": [
    {
     "name": "stdout",
     "output_type": "stream",
     "text": [
      "----------------------------------------------------------------\n",
      "        Layer (type)               Output Shape         Param #\n",
      "================================================================\n",
      "            Conv2d-1           [-1, 32, 48, 64]             896\n",
      "       BatchNorm2d-2           [-1, 32, 48, 64]              64\n",
      "              ReLU-3           [-1, 32, 48, 64]               0\n",
      "         MaxPool2d-4           [-1, 32, 24, 32]               0\n",
      "            Conv2d-5           [-1, 64, 24, 32]          18,496\n",
      "       BatchNorm2d-6           [-1, 64, 24, 32]             128\n",
      "              ReLU-7           [-1, 64, 24, 32]               0\n",
      "         MaxPool2d-8           [-1, 64, 12, 16]               0\n",
      "            Conv2d-9          [-1, 128, 12, 16]          73,856\n",
      "      BatchNorm2d-10          [-1, 128, 12, 16]             256\n",
      "             ReLU-11          [-1, 128, 12, 16]               0\n",
      "        MaxPool2d-12            [-1, 128, 6, 8]               0\n",
      "          Flatten-13                 [-1, 6144]               0\n",
      "           Linear-14                   [-1, 64]         393,280\n",
      "             ReLU-15                   [-1, 64]               0\n",
      "           Linear-16                   [-1, 10]             650\n",
      "================================================================\n",
      "Total params: 487,626\n",
      "Trainable params: 487,626\n",
      "Non-trainable params: 0\n",
      "----------------------------------------------------------------\n",
      "Input size (MB): 0.04\n",
      "Forward/backward pass size (MB): 4.31\n",
      "Params size (MB): 1.86\n",
      "Estimated Total Size (MB): 6.21\n",
      "----------------------------------------------------------------\n"
     ]
    }
   ],
   "source": [
    "model = BikeHorseClassifier().to(device)\n",
    "summary(model, (3, 48, 64))"
   ]
  },
  {
   "cell_type": "markdown",
   "metadata": {},
   "source": [
    "# 3. Training Loop"
   ]
  },
  {
   "cell_type": "code",
   "execution_count": 65,
   "metadata": {},
   "outputs": [],
   "source": [
    "def train_step(model: torch.nn.Module,\n",
    "               data_loader: torch.utils.data.DataLoader,\n",
    "               loss_fn: torch.nn.Module,\n",
    "               optimizer: torch.optim.Optimizer,\n",
    "               device: torch.device\n",
    "              ):\n",
    "    \n",
    "    start_time = time.time()\n",
    "\n",
    "    train_loss = 0    \n",
    "    model.to(device)\n",
    "    model.train()\n",
    "    \n",
    "    for (X, y) in data_loader:\n",
    "        # send data to GPU\n",
    "        X, y = X.to(device), y.to(device)\n",
    "        # X, y = X.to(device), y.type(torch.LongTensor).to(device)\n",
    "        \n",
    "        # 1. forward pass\n",
    "        y_pred, _ = model(X)\n",
    "\n",
    "        # 2. calculate loss\n",
    "        loss = loss_fn(y_pred, y)\n",
    "        train_loss += loss\n",
    "        \n",
    "        # 3. optimizer zero grad\n",
    "        optimizer.zero_grad()\n",
    "        \n",
    "        # 4. loss backward\n",
    "        loss.backward()\n",
    "        \n",
    "        # 5. optimizer step\n",
    "        optimizer.step()\n",
    "    \n",
    "    train_loss /= len(data_loader)\n",
    "\n",
    "    end_time = time.time()\n",
    "\n",
    "    return {\"avg_batch_loss\": train_loss, \"time\": (end_time - start_time)* 10**3}\n",
    "\n",
    "def valid_step(model: torch.nn.Module,\n",
    "               data_loader: torch.utils.data.DataLoader,\n",
    "               device: torch.device\n",
    "              ):\n",
    "    \n",
    "    # send the model to device\n",
    "    model.to(device)\n",
    "\n",
    "    # send the model in eval mode\n",
    "    model.eval()\n",
    "\n",
    "    # for confusion matrix and accuracy\n",
    "    y_true = torch.Tensor([]).to(device)\n",
    "    y_pred = torch.Tensor([]).to(device)\n",
    "\n",
    "    with torch.inference_mode(): \n",
    "        for X, y in data_loader:\n",
    "            # Send data to GPU\n",
    "            X, y = X.to(device), y.to(device)\n",
    "            \n",
    "            # 1. Forward pass\n",
    "            test_pred, _ = model(X)\n",
    "            \n",
    "            y_true = torch.cat((y_true, y), dim=0)\n",
    "            y_pred = torch.cat((y_pred, test_pred.argmax(axis=1)), dim=0)\n",
    "        \n",
    "        # send back to cpu\n",
    "        y_true = y_true.cpu()\n",
    "        y_pred = y_pred.cpu()\n",
    "\n",
    "        return {\"accuracy\": accuracy_score(y_true, y_pred), \"confusion_matrix\": confusion_matrix(y_true, y_pred, normalize=\"true\")}\n"
   ]
  },
  {
   "cell_type": "code",
   "execution_count": 66,
   "metadata": {},
   "outputs": [],
   "source": [
    "# create loss_fn\n",
    "loss_fn = CrossEntropyLoss()"
   ]
  },
  {
   "cell_type": "code",
   "execution_count": 67,
   "metadata": {},
   "outputs": [],
   "source": [
    "# create optimizer\n",
    "\n",
    "lr = 3.2 * (10**-4)\n",
    "optimizer = Adam(model.parameters(), lr=lr)"
   ]
  },
  {
   "cell_type": "code",
   "execution_count": 68,
   "metadata": {},
   "outputs": [
    {
     "data": {
      "application/vnd.jupyter.widget-view+json": {
       "model_id": "4e7e0e9589aa4c29ae2a626ddf6e5748",
       "version_major": 2,
       "version_minor": 0
      },
      "text/plain": [
       "  0%|          | 0/32 [00:00<?, ?it/s]"
      ]
     },
     "metadata": {},
     "output_type": "display_data"
    },
    {
     "name": "stdout",
     "output_type": "stream",
     "text": [
      "epoch: 0\n",
      "avg_batch_loss: 2.4390485286712646\n",
      "time: 933.5768222808838\n",
      "\n",
      "epoch: 1\n",
      "avg_batch_loss: 2.033043146133423\n",
      "time: 613.4030818939209\n",
      "\n",
      "epoch: 2\n",
      "avg_batch_loss: 0.6366634964942932\n",
      "time: 646.1994647979736\n",
      "\n",
      "epoch: 3\n",
      "avg_batch_loss: 0.4491591453552246\n",
      "time: 618.9291477203369\n",
      "\n",
      "epoch: 4\n",
      "avg_batch_loss: 0.2998581528663635\n",
      "time: 622.9219436645508\n",
      "\n",
      "epoch: 5\n",
      "avg_batch_loss: 0.19932998716831207\n",
      "time: 636.0793113708496\n",
      "\n",
      "epoch: 6\n",
      "avg_batch_loss: 0.14700278639793396\n",
      "time: 611.4358901977539\n",
      "\n",
      "epoch: 7\n",
      "avg_batch_loss: 0.10592490434646606\n",
      "time: 597.4242687225342\n",
      "\n",
      "epoch: 8\n",
      "avg_batch_loss: 0.07511460036039352\n",
      "time: 625.1246929168701\n",
      "\n",
      "epoch: 9\n",
      "avg_batch_loss: 0.05314221978187561\n",
      "time: 628.8480758666992\n",
      "\n",
      "epoch: 10\n",
      "avg_batch_loss: 0.03473154082894325\n",
      "time: 610.7702255249023\n",
      "\n",
      "epoch: 11\n",
      "avg_batch_loss: 0.023491274565458298\n",
      "time: 611.7730140686035\n",
      "\n",
      "epoch: 12\n",
      "avg_batch_loss: 0.016298340633511543\n",
      "time: 608.2763671875\n",
      "\n",
      "epoch: 13\n",
      "avg_batch_loss: 0.011773131787776947\n",
      "time: 630.089521408081\n",
      "\n",
      "epoch: 14\n",
      "avg_batch_loss: 0.008812393993139267\n",
      "time: 618.0388927459717\n",
      "\n",
      "epoch: 15\n",
      "avg_batch_loss: 0.006836950313299894\n",
      "time: 591.5713310241699\n",
      "\n",
      "epoch: 16\n",
      "avg_batch_loss: 0.005537472199648619\n",
      "time: 606.6856384277344\n",
      "\n",
      "epoch: 17\n",
      "avg_batch_loss: 0.004483872093260288\n",
      "time: 636.5396976470947\n",
      "\n",
      "epoch: 18\n",
      "avg_batch_loss: 0.003734686877578497\n",
      "time: 598.7286567687988\n",
      "\n",
      "epoch: 19\n",
      "avg_batch_loss: 0.003146546659991145\n",
      "time: 601.0568141937256\n",
      "\n",
      "epoch: 20\n",
      "avg_batch_loss: 0.002698116237297654\n",
      "time: 600.1107692718506\n",
      "\n",
      "epoch: 21\n",
      "avg_batch_loss: 0.0023159985430538654\n",
      "time: 625.0660419464111\n",
      "\n",
      "epoch: 22\n",
      "avg_batch_loss: 0.002024615416303277\n",
      "time: 591.4604663848877\n",
      "\n",
      "epoch: 23\n",
      "avg_batch_loss: 0.0017795568564906716\n",
      "time: 586.4763259887695\n",
      "\n",
      "epoch: 24\n",
      "avg_batch_loss: 0.001580212265253067\n",
      "time: 612.4856472015381\n",
      "\n",
      "epoch: 25\n",
      "avg_batch_loss: 0.0014051634352654219\n",
      "time: 595.2465534210205\n",
      "\n",
      "epoch: 26\n",
      "avg_batch_loss: 0.0012654850725084543\n",
      "time: 590.9454822540283\n",
      "\n",
      "epoch: 27\n",
      "avg_batch_loss: 0.0011401268420740962\n",
      "time: 579.0131092071533\n",
      "\n",
      "epoch: 28\n",
      "avg_batch_loss: 0.0010358428116887808\n",
      "time: 597.8286266326904\n",
      "\n",
      "epoch: 29\n",
      "avg_batch_loss: 0.0009414868545718491\n",
      "time: 755.1460266113281\n",
      "\n",
      "epoch: 30\n",
      "avg_batch_loss: 0.0008627265924587846\n",
      "time: 698.3029842376709\n",
      "\n",
      "epoch: 31\n",
      "avg_batch_loss: 0.000791947590187192\n",
      "time: 611.1617088317871\n",
      "\n"
     ]
    }
   ],
   "source": [
    "epochs = 32\n",
    "\n",
    "for epoch in tqdm(range(epochs)):\n",
    "        tres = train_step(model, train_dataloader, loss_fn, optimizer, device)\n",
    "        print(f\"epoch: {epoch}\")\n",
    "        print(f\"avg_batch_loss: {tres['avg_batch_loss']}\")\n",
    "        print(f\"time: {tres['time']}\")   \n",
    "        print(\"\")"
   ]
  },
  {
   "cell_type": "code",
   "execution_count": 69,
   "metadata": {},
   "outputs": [
    {
     "name": "stdout",
     "output_type": "stream",
     "text": [
      "accuracy: 1.0\n",
      "confusion_matrix: \n",
      "[[1. 0.]\n",
      " [0. 1.]]\n"
     ]
    }
   ],
   "source": [
    "# validation results\n",
    "vres = valid_step(model, val_dataloader, device)\n",
    "print(f\"accuracy: {vres['accuracy']}\")\n",
    "print(f\"confusion_matrix: \\n{vres['confusion_matrix']}\")"
   ]
  },
  {
   "cell_type": "markdown",
   "metadata": {},
   "source": [
    "# 4. Using CNN as Feature Extractor"
   ]
  },
  {
   "cell_type": "code",
   "execution_count": 70,
   "metadata": {},
   "outputs": [],
   "source": [
    "# get features\n",
    "def get_features(model, data_loader):\n",
    "    # send the model to device\n",
    "    model.to(device)\n",
    "\n",
    "    # send the model in eval mode\n",
    "    model.eval()\n",
    "\n",
    "    # for confusion matrix and accuracy\n",
    "    all_y = torch.Tensor([]).to(device)\n",
    "    all_x = torch.Tensor([]).to(device)\n",
    "\n",
    "    with torch.inference_mode(): \n",
    "        for X, y in data_loader:\n",
    "            # Send data to GPU\n",
    "            X, y = X.to(device), y.to(device)\n",
    "            \n",
    "            # 1. Forward pass\n",
    "            _, features = model(X)\n",
    "            \n",
    "            all_y = torch.cat((all_y, y), dim=0)\n",
    "            all_x = torch.cat((all_x, features), dim=0)\n",
    "        \n",
    "        # send back to cpu\n",
    "        return (all_x.cpu(), all_y.cpu())   "
   ]
  },
  {
   "cell_type": "code",
   "execution_count": 71,
   "metadata": {},
   "outputs": [
    {
     "data": {
      "text/plain": [
       "(torch.Size([167, 64]), torch.Size([167]))"
      ]
     },
     "execution_count": 71,
     "metadata": {},
     "output_type": "execute_result"
    }
   ],
   "source": [
    "train_x, train_y = get_features(model, train_dataloader)\n",
    "train_x.shape, train_y.shape"
   ]
  },
  {
   "cell_type": "code",
   "execution_count": 72,
   "metadata": {},
   "outputs": [
    {
     "data": {
      "text/plain": [
       "(torch.Size([12, 64]), torch.Size([12]))"
      ]
     },
     "execution_count": 72,
     "metadata": {},
     "output_type": "execute_result"
    }
   ],
   "source": [
    "val_x, val_y = get_features(model, val_dataloader)\n",
    "val_x.shape, val_y.shape"
   ]
  },
  {
   "cell_type": "code",
   "execution_count": 73,
   "metadata": {},
   "outputs": [
    {
     "name": "stdout",
     "output_type": "stream",
     "text": [
      "accuracy: 1.0\n"
     ]
    }
   ],
   "source": [
    "# try out sklearn models\n",
    "from sklearn.linear_model import LogisticRegression\n",
    "from sklearn.metrics import accuracy_score \n",
    "\n",
    "fmodel = LogisticRegression(max_iter=256)\n",
    "fmodel.fit(train_x, train_y)\n",
    "print(\"accuracy:\", accuracy_score(val_y, fmodel.predict(val_x)))"
   ]
  },
  {
   "cell_type": "code",
   "execution_count": 74,
   "metadata": {},
   "outputs": [
    {
     "name": "stdout",
     "output_type": "stream",
     "text": [
      "accuracy: 1.0\n"
     ]
    }
   ],
   "source": [
    "# random forest\n",
    "from sklearn.ensemble import RandomForestClassifier\n",
    "from sklearn.metrics import accuracy_score \n",
    "\n",
    "fmodel = RandomForestClassifier()\n",
    "fmodel.fit(train_x, train_y)\n",
    "print(\"accuracy:\", accuracy_score(val_y, fmodel.predict(val_x)))"
   ]
  },
  {
   "cell_type": "code",
   "execution_count": 75,
   "metadata": {},
   "outputs": [
    {
     "name": "stdout",
     "output_type": "stream",
     "text": [
      "accuracy: 1.0\n"
     ]
    }
   ],
   "source": [
    "# gaussian NB\n",
    "from sklearn.naive_bayes import GaussianNB\n",
    "from sklearn.metrics import accuracy_score \n",
    "\n",
    "fmodel = GaussianNB()\n",
    "fmodel.fit(train_x, train_y)\n",
    "print(\"accuracy:\", accuracy_score(val_y, fmodel.predict(val_x)))"
   ]
  },
  {
   "cell_type": "code",
   "execution_count": 76,
   "metadata": {},
   "outputs": [
    {
     "name": "stdout",
     "output_type": "stream",
     "text": [
      "accuracy: 1.0\n"
     ]
    },
    {
     "ename": "",
     "evalue": "",
     "output_type": "error",
     "traceback": [
      "\u001b[1;31mThe Kernel crashed while executing code in the current cell or a previous cell. \n",
      "\u001b[1;31mPlease review the code in the cell(s) to identify a possible cause of the failure. \n",
      "\u001b[1;31mClick <a href='https://aka.ms/vscodeJupyterKernelCrash'>here</a> for more info. \n",
      "\u001b[1;31mView Jupyter <a href='command:jupyter.viewOutput'>log</a> for further details."
     ]
    }
   ],
   "source": [
    "# multinomial NB\n",
    "from sklearn.naive_bayes import MultinomialNB\n",
    "from sklearn.metrics import accuracy_score \n",
    "\n",
    "fmodel = MultinomialNB()\n",
    "fmodel.fit(train_x, train_y)\n",
    "print(\"accuracy:\", accuracy_score(val_y, fmodel.predict(val_x)))"
   ]
  }
 ],
 "metadata": {
  "kernelspec": {
   "display_name": "my_env",
   "language": "python",
   "name": "python3"
  },
  "language_info": {
   "codemirror_mode": {
    "name": "ipython",
    "version": 3
   },
   "file_extension": ".py",
   "mimetype": "text/x-python",
   "name": "python",
   "nbconvert_exporter": "python",
   "pygments_lexer": "ipython3",
   "version": "3.11.3"
  }
 },
 "nbformat": 4,
 "nbformat_minor": 2
}
